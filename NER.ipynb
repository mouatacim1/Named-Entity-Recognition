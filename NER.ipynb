{
  "cells": [
    {
      "cell_type": "code",
      "execution_count": 1,
      "metadata": {
        "id": "kFw2rAGrAcot"
      },
      "outputs": [],
      "source": [
        "import pandas as pd\n",
        "import numpy as np\n",
        "import pickle\n",
        "\n",
        "from sklearn.model_selection import train_test_split\n",
        "from keras.preprocessing.sequence import pad_sequences\n",
        "from tensorflow.keras.utils import to_categorical\n",
        "\n",
        "import tensorflow\n",
        "from tensorflow.keras import Sequential, Model, Input\n",
        "from tensorflow.keras.layers import LSTM, Embedding, Dense, TimeDistributed, Dropout, Bidirectional\n",
        "from tensorflow.keras.utils import plot_model\n",
        "\n",
        "from seqeval.metrics import precision_score, recall_score, f1_score, classification_report\n",
        "\n",
        "from numpy.random import seed\n",
        "import matplotlib.pyplot as plt"
      ]
    },
    {
      "cell_type": "code",
      "execution_count": 2,
      "metadata": {
        "colab": {
          "base_uri": "https://localhost:8080/",
          "height": 206
        },
        "id": "Akm-ZizcBilf",
        "outputId": "60b75b02-0aa4-454b-81bb-36ed8b63ddf5"
      },
      "outputs": [
        {
          "data": {
            "text/html": [
              "<div>\n",
              "<style scoped>\n",
              "    .dataframe tbody tr th:only-of-type {\n",
              "        vertical-align: middle;\n",
              "    }\n",
              "\n",
              "    .dataframe tbody tr th {\n",
              "        vertical-align: top;\n",
              "    }\n",
              "\n",
              "    .dataframe thead th {\n",
              "        text-align: right;\n",
              "    }\n",
              "</style>\n",
              "<table border=\"1\" class=\"dataframe\">\n",
              "  <thead>\n",
              "    <tr style=\"text-align: right;\">\n",
              "      <th></th>\n",
              "      <th>Sentence #</th>\n",
              "      <th>Word</th>\n",
              "      <th>POS</th>\n",
              "      <th>Tag</th>\n",
              "    </tr>\n",
              "  </thead>\n",
              "  <tbody>\n",
              "    <tr>\n",
              "      <th>0</th>\n",
              "      <td>Sentence: 1</td>\n",
              "      <td>Thousands</td>\n",
              "      <td>NNS</td>\n",
              "      <td>O</td>\n",
              "    </tr>\n",
              "    <tr>\n",
              "      <th>1</th>\n",
              "      <td>NaN</td>\n",
              "      <td>of</td>\n",
              "      <td>IN</td>\n",
              "      <td>O</td>\n",
              "    </tr>\n",
              "    <tr>\n",
              "      <th>2</th>\n",
              "      <td>NaN</td>\n",
              "      <td>demonstrators</td>\n",
              "      <td>NNS</td>\n",
              "      <td>O</td>\n",
              "    </tr>\n",
              "    <tr>\n",
              "      <th>3</th>\n",
              "      <td>NaN</td>\n",
              "      <td>have</td>\n",
              "      <td>VBP</td>\n",
              "      <td>O</td>\n",
              "    </tr>\n",
              "    <tr>\n",
              "      <th>4</th>\n",
              "      <td>NaN</td>\n",
              "      <td>marched</td>\n",
              "      <td>VBN</td>\n",
              "      <td>O</td>\n",
              "    </tr>\n",
              "  </tbody>\n",
              "</table>\n",
              "</div>"
            ],
            "text/plain": [
              "    Sentence #           Word  POS Tag\n",
              "0  Sentence: 1      Thousands  NNS   O\n",
              "1          NaN             of   IN   O\n",
              "2          NaN  demonstrators  NNS   O\n",
              "3          NaN           have  VBP   O\n",
              "4          NaN        marched  VBN   O"
            ]
          },
          "execution_count": 2,
          "metadata": {},
          "output_type": "execute_result"
        }
      ],
      "source": [
        "df = pd.read_csv(\"ner_datasetreference.csv\", encoding = 'unicode_escape') \n",
        "df.head()"
      ]
    },
    {
      "cell_type": "code",
      "execution_count": 3,
      "metadata": {
        "colab": {
          "base_uri": "https://localhost:8080/",
          "height": 206
        },
        "id": "UFS27-Ez4t3_",
        "outputId": "c01aab7b-64b7-4d0e-8ac8-bb5d0244ed8a"
      },
      "outputs": [
        {
          "data": {
            "text/html": [
              "<div>\n",
              "<style scoped>\n",
              "    .dataframe tbody tr th:only-of-type {\n",
              "        vertical-align: middle;\n",
              "    }\n",
              "\n",
              "    .dataframe tbody tr th {\n",
              "        vertical-align: top;\n",
              "    }\n",
              "\n",
              "    .dataframe thead th {\n",
              "        text-align: right;\n",
              "    }\n",
              "</style>\n",
              "<table border=\"1\" class=\"dataframe\">\n",
              "  <thead>\n",
              "    <tr style=\"text-align: right;\">\n",
              "      <th></th>\n",
              "      <th>Sentence #</th>\n",
              "      <th>Word</th>\n",
              "      <th>POS</th>\n",
              "      <th>Tag</th>\n",
              "    </tr>\n",
              "  </thead>\n",
              "  <tbody>\n",
              "    <tr>\n",
              "      <th>0</th>\n",
              "      <td>Sentence: 1</td>\n",
              "      <td>Thousands</td>\n",
              "      <td>NNS</td>\n",
              "      <td>O</td>\n",
              "    </tr>\n",
              "    <tr>\n",
              "      <th>1</th>\n",
              "      <td>Sentence: 1</td>\n",
              "      <td>of</td>\n",
              "      <td>IN</td>\n",
              "      <td>O</td>\n",
              "    </tr>\n",
              "    <tr>\n",
              "      <th>2</th>\n",
              "      <td>Sentence: 1</td>\n",
              "      <td>demonstrators</td>\n",
              "      <td>NNS</td>\n",
              "      <td>O</td>\n",
              "    </tr>\n",
              "    <tr>\n",
              "      <th>3</th>\n",
              "      <td>Sentence: 1</td>\n",
              "      <td>have</td>\n",
              "      <td>VBP</td>\n",
              "      <td>O</td>\n",
              "    </tr>\n",
              "    <tr>\n",
              "      <th>4</th>\n",
              "      <td>Sentence: 1</td>\n",
              "      <td>marched</td>\n",
              "      <td>VBN</td>\n",
              "      <td>O</td>\n",
              "    </tr>\n",
              "  </tbody>\n",
              "</table>\n",
              "</div>"
            ],
            "text/plain": [
              "    Sentence #           Word  POS Tag\n",
              "0  Sentence: 1      Thousands  NNS   O\n",
              "1  Sentence: 1             of   IN   O\n",
              "2  Sentence: 1  demonstrators  NNS   O\n",
              "3  Sentence: 1           have  VBP   O\n",
              "4  Sentence: 1        marched  VBN   O"
            ]
          },
          "execution_count": 3,
          "metadata": {},
          "output_type": "execute_result"
        }
      ],
      "source": [
        "df = df.fillna(method='ffill')\n",
        "df.head()"
      ]
    },
    {
      "cell_type": "markdown",
      "metadata": {},
      "source": [
        "Seperate tokens and tags"
      ]
    },
    {
      "cell_type": "code",
      "execution_count": 4,
      "metadata": {
        "id": "ksPQfIRiB3hH"
      },
      "outputs": [],
      "source": [
        "Sentences  = df.groupby('Sentence #')['Word'].apply(list)\n",
        "Tags  = df.groupby('Sentence #')['Tag'].apply(list)"
      ]
    },
    {
      "cell_type": "markdown",
      "metadata": {},
      "source": [
        "Explore the length of all the sentences in the data. "
      ]
    },
    {
      "cell_type": "code",
      "execution_count": 5,
      "metadata": {
        "colab": {
          "base_uri": "https://localhost:8080/",
          "height": 265
        },
        "id": "Qq64P2txDpfx",
        "outputId": "23eb5538-e748-4afa-d718-9e94b325ad15"
      },
      "outputs": [
        {
          "data": {
            "image/png": "[encoded data removed]",
            "text/plain": [
              "<Figure size 432x288 with 1 Axes>"
            ]
          },
          "metadata": {},
          "output_type": "display_data"
        }
      ],
      "source": [
        "length_sentence = []\n",
        "length_sentence = list([len(sentence) for sentence in Sentences])\n",
        "\n",
        "plt.style.use(\"ggplot\")\n",
        "plt.hist(length_sentence, bins=50, color='blue')\n",
        "plt.show()"
      ]
    },
    {
      "cell_type": "markdown",
      "metadata": {},
      "source": [
        "Only few sentences are composed of more than 40 token. \n",
        "Traning the model while keeping sentences with a big number of tokens is gonna be memory consuming and the model will take too much time to get trained. So we are gonna keep only sentences with less 40 token. "
      ]
    },
    {
      "cell_type": "code",
      "execution_count": 6,
      "metadata": {
        "id": "QqWPL3ZID_5O"
      },
      "outputs": [],
      "source": [
        "selected_sentences = []\n",
        "selected_tags = []\n",
        "for i in range(len(Sentences)) :\n",
        "  if len(Sentences[i]) <= 40 :\n",
        "    selected_sentences.append(Sentences[i])\n",
        "    selected_tags.append(Tags[i])"
      ]
    },
    {
      "cell_type": "markdown",
      "metadata": {},
      "source": [
        "Extract the list of words and tags."
      ]
    },
    {
      "cell_type": "code",
      "execution_count": null,
      "metadata": {
        "colab": {
          "base_uri": "https://localhost:8080/"
        },
        "id": "pSNHI88hGiJM",
        "outputId": "694637d1-2253-4033-e976-252af364b7a2"
      },
      "outputs": [],
      "source": [
        "words = []\n",
        "for sentence in selected_sentences :\n",
        "  for word in sentence : \n",
        "    words.append(word)\n",
        "words = list(set(words))\n",
        "words.append(\"pad_word\")\n",
        "print(words)\n",
        "\n",
        "tags=[]\n",
        "for tag in selected_tags :\n",
        "  for sub_tag in tag : \n",
        "    tags.append(sub_tag)\n",
        "tags = list(set(tags))\n",
        "tags.append(\"XX\")\n",
        "print(tags)"
      ]
    },
    {
      "cell_type": "markdown",
      "metadata": {},
      "source": [
        "Associate every word to a number"
      ]
    },
    {
      "cell_type": "code",
      "execution_count": 8,
      "metadata": {
        "id": "tn0r1qV7H_FE"
      },
      "outputs": [],
      "source": [
        "word_to_num = {w: i for i, w in enumerate(words)}\n",
        "tag_to_num = {w: i for i, w in enumerate(tags)}"
      ]
    },
    {
      "cell_type": "markdown",
      "metadata": {},
      "source": [
        "Build sentences and their tags from numbers"
      ]
    },
    {
      "cell_type": "code",
      "execution_count": 9,
      "metadata": {
        "id": "CIIU3fP1ICwV"
      },
      "outputs": [],
      "source": [
        "sentences_to_num = [[word_to_num[y] for y in x] for x in selected_sentences]\n",
        "tags_to_num = [[tag_to_num[y] for y in x] for x in selected_tags]"
      ]
    },
    {
      "cell_type": "code",
      "execution_count": 10,
      "metadata": {
        "colab": {
          "base_uri": "https://localhost:8080/"
        },
        "id": "z-FoPFOb5rI0",
        "outputId": "019899ec-d4be-42bf-c66a-af7e3cb5ceb3"
      },
      "outputs": [
        {
          "name": "stdout",
          "output_type": "stream",
          "text": [
            "[198, 5628, 13688, 29219, 23283, 23430, 11899, 19420, 9386, 21922, 32709, 33844, 17357, 2930, 4545, 21922, 21736, 5628, 8588, 12976, 27075, 18265, 9558, 26515]\n",
            "[10, 10, 10, 10, 10, 10, 1, 10, 10, 10, 10, 10, 1, 10, 10, 10, 10, 10, 9, 10, 10, 10, 10, 10]\n"
          ]
        }
      ],
      "source": [
        "print(sentences_to_num[0])\n",
        "print(tags_to_num[0])"
      ]
    },
    {
      "cell_type": "markdown",
      "metadata": {},
      "source": [
        "The longest sentence contains 40 word."
      ]
    },
    {
      "cell_type": "code",
      "execution_count": 11,
      "metadata": {
        "colab": {
          "base_uri": "https://localhost:8080/"
        },
        "id": "ayzZriuF4Xti",
        "outputId": "24041142-47e5-4cfc-d9e2-74de47e149b9"
      },
      "outputs": [
        {
          "data": {
            "text/plain": [
              "38"
            ]
          },
          "execution_count": 11,
          "metadata": {},
          "output_type": "execute_result"
        }
      ],
      "source": [
        "max_len_sentence = max([len(x) for x in selected_sentences])\n",
        "max_len_sentence"
      ]
    },
    {
      "cell_type": "markdown",
      "metadata": {},
      "source": [
        "The model has to take as input an array with 'max_len_sentence' elements. \n",
        "Therefore, we have to add missing values to some sentences in order to reach the maximum length using padding. \n",
        "The missing values will be filled by the value of 'XX' "
      ]
    },
    {
      "cell_type": "code",
      "execution_count": 12,
      "metadata": {
        "id": "7yaUo9z-LXtA"
      },
      "outputs": [],
      "source": [
        "pad_sentences = pad_sequences(sentences_to_num, maxlen=max_len_sentence, padding='post', value= word_to_num[\"pad_word\"])\n",
        "pad_tags = pad_sequences(tags_to_num, maxlen=max_len_sentence, padding='post', value= tag_to_num[\"XX\"])"
      ]
    },
    {
      "cell_type": "code",
      "execution_count": 13,
      "metadata": {
        "colab": {
          "base_uri": "https://localhost:8080/"
        },
        "id": "Y9VuknQJ54tE",
        "outputId": "79a135fb-0bed-4319-e15d-71e22f297c0d"
      },
      "outputs": [
        {
          "name": "stdout",
          "output_type": "stream",
          "text": [
            "[  198  5628 13688 29219 23283 23430 11899 19420  9386 21922 32709 33844\n",
            " 17357  2930  4545 21922 21736  5628  8588 12976 27075 18265  9558 26515\n",
            " 34068 34068 34068 34068 34068 34068 34068 34068 34068 34068 34068 34068\n",
            " 34068 34068]\n",
            "[10 10 10 10 10 10  1 10 10 10 10 10  1 10 10 10 10 10  9 10 10 10 10 10\n",
            " 17 17 17 17 17 17 17 17 17 17 17 17 17 17]\n"
          ]
        }
      ],
      "source": [
        "print(pad_sentences[0])\n",
        "print(pad_tags[0])"
      ]
    },
    {
      "cell_type": "markdown",
      "metadata": {},
      "source": [
        "Convert pad_tags to np array that represents the class of the tags using 0 and 1"
      ]
    },
    {
      "cell_type": "code",
      "execution_count": 14,
      "metadata": {
        "id": "ikySPlbaejHb"
      },
      "outputs": [],
      "source": [
        "pad_tags = [to_categorical(i, num_classes=len(tag_to_num)) for i in pad_tags]"
      ]
    },
    {
      "cell_type": "code",
      "execution_count": 15,
      "metadata": {
        "colab": {
          "base_uri": "https://localhost:8080/"
        },
        "id": "gHQAeji358bG",
        "outputId": "786449fe-059c-414e-8687-d5cee99cfe49"
      },
      "outputs": [
        {
          "name": "stdout",
          "output_type": "stream",
          "text": [
            "[[0. 0. 0. 0. 0. 0. 0. 0. 0. 0. 1. 0. 0. 0. 0. 0. 0. 0.]\n",
            " [0. 0. 0. 0. 0. 0. 0. 0. 0. 0. 1. 0. 0. 0. 0. 0. 0. 0.]\n",
            " [0. 0. 0. 0. 0. 0. 0. 0. 0. 0. 1. 0. 0. 0. 0. 0. 0. 0.]\n",
            " [0. 0. 0. 0. 0. 0. 0. 0. 0. 0. 1. 0. 0. 0. 0. 0. 0. 0.]\n",
            " [0. 0. 0. 0. 0. 0. 0. 0. 0. 0. 1. 0. 0. 0. 0. 0. 0. 0.]\n",
            " [0. 0. 0. 0. 0. 0. 0. 0. 0. 0. 1. 0. 0. 0. 0. 0. 0. 0.]\n",
            " [0. 1. 0. 0. 0. 0. 0. 0. 0. 0. 0. 0. 0. 0. 0. 0. 0. 0.]\n",
            " [0. 0. 0. 0. 0. 0. 0. 0. 0. 0. 1. 0. 0. 0. 0. 0. 0. 0.]\n",
            " [0. 0. 0. 0. 0. 0. 0. 0. 0. 0. 1. 0. 0. 0. 0. 0. 0. 0.]\n",
            " [0. 0. 0. 0. 0. 0. 0. 0. 0. 0. 1. 0. 0. 0. 0. 0. 0. 0.]\n",
            " [0. 0. 0. 0. 0. 0. 0. 0. 0. 0. 1. 0. 0. 0. 0. 0. 0. 0.]\n",
            " [0. 0. 0. 0. 0. 0. 0. 0. 0. 0. 1. 0. 0. 0. 0. 0. 0. 0.]\n",
            " [0. 1. 0. 0. 0. 0. 0. 0. 0. 0. 0. 0. 0. 0. 0. 0. 0. 0.]\n",
            " [0. 0. 0. 0. 0. 0. 0. 0. 0. 0. 1. 0. 0. 0. 0. 0. 0. 0.]\n",
            " [0. 0. 0. 0. 0. 0. 0. 0. 0. 0. 1. 0. 0. 0. 0. 0. 0. 0.]\n",
            " [0. 0. 0. 0. 0. 0. 0. 0. 0. 0. 1. 0. 0. 0. 0. 0. 0. 0.]\n",
            " [0. 0. 0. 0. 0. 0. 0. 0. 0. 0. 1. 0. 0. 0. 0. 0. 0. 0.]\n",
            " [0. 0. 0. 0. 0. 0. 0. 0. 0. 0. 1. 0. 0. 0. 0. 0. 0. 0.]\n",
            " [0. 0. 0. 0. 0. 0. 0. 0. 0. 1. 0. 0. 0. 0. 0. 0. 0. 0.]\n",
            " [0. 0. 0. 0. 0. 0. 0. 0. 0. 0. 1. 0. 0. 0. 0. 0. 0. 0.]\n",
            " [0. 0. 0. 0. 0. 0. 0. 0. 0. 0. 1. 0. 0. 0. 0. 0. 0. 0.]\n",
            " [0. 0. 0. 0. 0. 0. 0. 0. 0. 0. 1. 0. 0. 0. 0. 0. 0. 0.]\n",
            " [0. 0. 0. 0. 0. 0. 0. 0. 0. 0. 1. 0. 0. 0. 0. 0. 0. 0.]\n",
            " [0. 0. 0. 0. 0. 0. 0. 0. 0. 0. 1. 0. 0. 0. 0. 0. 0. 0.]\n",
            " [0. 0. 0. 0. 0. 0. 0. 0. 0. 0. 0. 0. 0. 0. 0. 0. 0. 1.]\n",
            " [0. 0. 0. 0. 0. 0. 0. 0. 0. 0. 0. 0. 0. 0. 0. 0. 0. 1.]\n",
            " [0. 0. 0. 0. 0. 0. 0. 0. 0. 0. 0. 0. 0. 0. 0. 0. 0. 1.]\n",
            " [0. 0. 0. 0. 0. 0. 0. 0. 0. 0. 0. 0. 0. 0. 0. 0. 0. 1.]\n",
            " [0. 0. 0. 0. 0. 0. 0. 0. 0. 0. 0. 0. 0. 0. 0. 0. 0. 1.]\n",
            " [0. 0. 0. 0. 0. 0. 0. 0. 0. 0. 0. 0. 0. 0. 0. 0. 0. 1.]\n",
            " [0. 0. 0. 0. 0. 0. 0. 0. 0. 0. 0. 0. 0. 0. 0. 0. 0. 1.]\n",
            " [0. 0. 0. 0. 0. 0. 0. 0. 0. 0. 0. 0. 0. 0. 0. 0. 0. 1.]\n",
            " [0. 0. 0. 0. 0. 0. 0. 0. 0. 0. 0. 0. 0. 0. 0. 0. 0. 1.]\n",
            " [0. 0. 0. 0. 0. 0. 0. 0. 0. 0. 0. 0. 0. 0. 0. 0. 0. 1.]\n",
            " [0. 0. 0. 0. 0. 0. 0. 0. 0. 0. 0. 0. 0. 0. 0. 0. 0. 1.]\n",
            " [0. 0. 0. 0. 0. 0. 0. 0. 0. 0. 0. 0. 0. 0. 0. 0. 0. 1.]\n",
            " [0. 0. 0. 0. 0. 0. 0. 0. 0. 0. 0. 0. 0. 0. 0. 0. 0. 1.]\n",
            " [0. 0. 0. 0. 0. 0. 0. 0. 0. 0. 0. 0. 0. 0. 0. 0. 0. 1.]]\n"
          ]
        }
      ],
      "source": [
        "print(pad_tags[0])"
      ]
    },
    {
      "cell_type": "markdown",
      "metadata": {},
      "source": [
        "Split the data to get train and test data"
      ]
    },
    {
      "cell_type": "code",
      "execution_count": 16,
      "metadata": {
        "id": "DgK5f4G_EEmx"
      },
      "outputs": [],
      "source": [
        "train_pad_sentences = pad_sentences[0:int(len(pad_sentences)*0.9)]\n",
        "test_pad_sentences = pad_sentences[int(len(pad_sentences)*0.9):]"
      ]
    },
    {
      "cell_type": "code",
      "execution_count": 17,
      "metadata": {
        "id": "QKLXoTkN400G"
      },
      "outputs": [],
      "source": [
        "train_pad_tags = pad_tags[0:int(len(pad_sentences)*0.9)]\n",
        "test_pad_tags = pad_tags[int(len(pad_sentences)*0.9):]"
      ]
    },
    {
      "cell_type": "code",
      "execution_count": 18,
      "metadata": {
        "id": "FDr_Hwfedbyd"
      },
      "outputs": [],
      "source": [
        "input = Input(shape=(max_len_sentence,))\n",
        "model = Embedding(input_dim=len(words), output_dim=max_len_sentence, input_length=max_len_sentence)(input)\n",
        "model = Dropout(0.1)(model)\n",
        "model = Bidirectional(LSTM(units=50, return_sequences=True, recurrent_dropout=0.1, dropout=0.2))(model) \n",
        "output = TimeDistributed(Dense(len(tags), activation=\"softmax\"))(model) \n",
        "model = Model(input, output)\n",
        "model.compile(optimizer=\"adam\", loss=\"categorical_crossentropy\", metrics=[\"accuracy\"])"
      ]
    },
    {
      "cell_type": "code",
      "execution_count": 19,
      "metadata": {
        "colab": {
          "base_uri": "https://localhost:8080/"
        },
        "id": "stpLSXUYdtHJ",
        "outputId": "13bd1116-22fd-4535-c3ba-252fdb089610"
      },
      "outputs": [
        {
          "name": "stdout",
          "output_type": "stream",
          "text": [
            "Epoch 1/10\n",
            "1183/1183 [==============================] - 76s 59ms/step - loss: 0.2808 - accuracy: 0.9350 - val_loss: 0.0953 - val_accuracy: 0.9739\n",
            "Epoch 2/10\n",
            "1183/1183 [==============================] - 81s 68ms/step - loss: 0.0708 - accuracy: 0.9797 - val_loss: 0.0703 - val_accuracy: 0.9794\n",
            "Epoch 3/10\n",
            "1183/1183 [==============================] - 79s 67ms/step - loss: 0.0508 - accuracy: 0.9848 - val_loss: 0.0668 - val_accuracy: 0.9799\n",
            "Epoch 4/10\n",
            "1183/1183 [==============================] - 83s 70ms/step - loss: 0.0423 - accuracy: 0.9868 - val_loss: 0.0675 - val_accuracy: 0.9804\n",
            "Epoch 5/10\n",
            "1183/1183 [==============================] - 78s 66ms/step - loss: 0.0371 - accuracy: 0.9882 - val_loss: 0.0684 - val_accuracy: 0.9807\n",
            "Epoch 6/10\n",
            "1183/1183 [==============================] - 88s 75ms/step - loss: 0.0334 - accuracy: 0.9892 - val_loss: 0.0700 - val_accuracy: 0.9803\n",
            "Epoch 7/10\n",
            "1183/1183 [==============================] - 83s 70ms/step - loss: 0.0305 - accuracy: 0.9900 - val_loss: 0.0718 - val_accuracy: 0.9800\n",
            "Epoch 8/10\n",
            "1183/1183 [==============================] - 84s 71ms/step - loss: 0.0280 - accuracy: 0.9908 - val_loss: 0.0732 - val_accuracy: 0.9803\n",
            "Epoch 9/10\n",
            "1183/1183 [==============================] - 87s 74ms/step - loss: 0.0260 - accuracy: 0.9914 - val_loss: 0.0758 - val_accuracy: 0.9800\n",
            "Epoch 10/10\n",
            "1183/1183 [==============================] - 81s 69ms/step - loss: 0.0241 - accuracy: 0.9920 - val_loss: 0.0802 - val_accuracy: 0.9797\n"
          ]
        }
      ],
      "source": [
        "history = model.fit(train_pad_sentences, np.array(train_pad_tags), batch_size=32, epochs=10, validation_split=0.1, verbose=1)"
      ]
    },
    {
      "cell_type": "code",
      "execution_count": 20,
      "metadata": {
        "colab": {
          "base_uri": "https://localhost:8080/"
        },
        "id": "Uxr_h1Vzi4HZ",
        "outputId": "a2d09a12-de30-40e7-b6db-8a1b21af421a"
      },
      "outputs": [
        {
          "name": "stdout",
          "output_type": "stream",
          "text": [
            "146/146 [==============================] - 2s 8ms/step\n"
          ]
        }
      ],
      "source": [
        "test_prediction = model.predict(np.array(test_pad_sentences), verbose=1)"
      ]
    },
    {
      "cell_type": "code",
      "execution_count": 21,
      "metadata": {
        "id": "eX3g3yhFjQoU"
      },
      "outputs": [],
      "source": [
        "num_to_tag = {i: w for w, i in tag_to_num.items()}\n",
        "\n",
        "def prediction_to_tag(pred):\n",
        "    out = []\n",
        "    for pred_i in pred:\n",
        "        out_i = []\n",
        "        for p in pred_i:\n",
        "            p_i = np.argmax(p)\n",
        "            out_i.append(num_to_tag[p_i])\n",
        "        out.append(out_i)\n",
        "    return out\n",
        "\n",
        "pred_labels = prediction_to_tag(test_prediction)"
      ]
    },
    {
      "cell_type": "code",
      "execution_count": 25,
      "metadata": {
        "id": "uWqXE4n-jH9U"
      },
      "outputs": [],
      "source": [
        "def test_to_tag(pred):\n",
        "    out = []\n",
        "    for pred_i in pred:\n",
        "        out_i = []\n",
        "        for p in pred_i:\n",
        "            p_i = np.argmax(p)\n",
        "            out_i.append(num_to_tag[p_i])\n",
        "        out.append(out_i)\n",
        "    return out\n",
        "    \n",
        "test_tags = test_to_tag(test_pad_tags)"
      ]
    },
    {
      "cell_type": "code",
      "execution_count": 26,
      "metadata": {
        "colab": {
          "base_uri": "https://localhost:8080/"
        },
        "id": "WCuF1OaPjJNE",
        "outputId": "96a5f091-8e9f-4a61-a449-2b30be64924a"
      },
      "outputs": [
        {
          "name": "stderr",
          "output_type": "stream",
          "text": [
            "c:\\users\\lenovo\\desktop\\lifebit\\lib\\site-packages\\seqeval\\metrics\\sequence_labeling.py:171: UserWarning: XX seems not to be NE tag.\n",
            "  warnings.warn('{} seems not to be NE tag.'.format(chunk))\n"
          ]
        },
        {
          "name": "stdout",
          "output_type": "stream",
          "text": [
            "              precision    recall  f1-score   support\n",
            "\n",
            "           X       1.00      1.00      1.00      4637\n",
            "         art       0.22      0.05      0.08        39\n",
            "         eve       0.39      0.32      0.35        37\n",
            "         geo       0.81      0.86      0.84      3591\n",
            "         gpe       0.98      0.91      0.94      1600\n",
            "         nat       0.50      0.40      0.44        15\n",
            "         org       0.62      0.62      0.62      1808\n",
            "         per       0.72      0.68      0.70      1568\n",
            "         tim       0.86      0.83      0.85      1902\n",
            "\n",
            "   micro avg       0.86      0.85      0.86     15197\n",
            "   macro avg       0.68      0.63      0.65     15197\n",
            "weighted avg       0.86      0.85      0.86     15197\n",
            "\n"
          ]
        }
      ],
      "source": [
        "classification_report(test_tags, pred_labels)"
      ]
    }
  ],
  "metadata": {
    "colab": {
      "collapsed_sections": [],
      "provenance": []
    },
    "kernelspec": {
      "display_name": "Python 3",
      "name": "python3"
    },
    "language_info": {
      "name": "python"
    }
  },
  "nbformat": 4,
  "nbformat_minor": 0
}
